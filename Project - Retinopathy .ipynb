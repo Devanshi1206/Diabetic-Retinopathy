{
 "cells": [
  {
   "cell_type": "markdown",
   "id": "74ae6af4",
   "metadata": {},
   "source": [
    "# Diabetic Retinopathy"
   ]
  },
  {
   "cell_type": "code",
   "execution_count": 1,
   "id": "44b282e2",
   "metadata": {},
   "outputs": [
    {
     "name": "stdout",
     "output_type": "stream",
     "text": [
      "3.9.12\n"
     ]
    }
   ],
   "source": [
    "from platform import python_version\n",
    "print(python_version())"
   ]
  },
  {
   "cell_type": "code",
   "execution_count": 2,
   "id": "96eb66ed",
   "metadata": {},
   "outputs": [],
   "source": [
    "import numpy as np\n",
    "import pandas as pd\n",
    "import matplotlib.pyplot as plt"
   ]
  },
  {
   "cell_type": "markdown",
   "id": "791dde9b",
   "metadata": {},
   "source": [
    "## IMPORTING DATA"
   ]
  },
  {
   "cell_type": "code",
   "execution_count": 3,
   "id": "b9d228be",
   "metadata": {},
   "outputs": [],
   "source": [
    "retinopathy_df=pd.read_csv('Retinopathy.csv')"
   ]
  },
  {
   "cell_type": "code",
   "execution_count": 4,
   "id": "4ada3ad4",
   "metadata": {},
   "outputs": [
    {
     "data": {
      "text/html": [
       "<div>\n",
       "<style scoped>\n",
       "    .dataframe tbody tr th:only-of-type {\n",
       "        vertical-align: middle;\n",
       "    }\n",
       "\n",
       "    .dataframe tbody tr th {\n",
       "        vertical-align: top;\n",
       "    }\n",
       "\n",
       "    .dataframe thead th {\n",
       "        text-align: right;\n",
       "    }\n",
       "</style>\n",
       "<table border=\"1\" class=\"dataframe\">\n",
       "  <thead>\n",
       "    <tr style=\"text-align: right;\">\n",
       "      <th></th>\n",
       "      <th>image</th>\n",
       "      <th>level</th>\n",
       "      <th>image_shape</th>\n",
       "      <th>image_size</th>\n",
       "      <th>height</th>\n",
       "      <th>width</th>\n",
       "      <th>channel</th>\n",
       "    </tr>\n",
       "  </thead>\n",
       "  <tbody>\n",
       "    <tr>\n",
       "      <th>0</th>\n",
       "      <td>1_left</td>\n",
       "      <td>0</td>\n",
       "      <td>(2336, 3504, 3)</td>\n",
       "      <td>1147508</td>\n",
       "      <td>2336</td>\n",
       "      <td>3504</td>\n",
       "      <td>3</td>\n",
       "    </tr>\n",
       "    <tr>\n",
       "      <th>1</th>\n",
       "      <td>1_right</td>\n",
       "      <td>0</td>\n",
       "      <td>(2336, 3504, 3)</td>\n",
       "      <td>1183978</td>\n",
       "      <td>2336</td>\n",
       "      <td>3504</td>\n",
       "      <td>3</td>\n",
       "    </tr>\n",
       "    <tr>\n",
       "      <th>2</th>\n",
       "      <td>2_left</td>\n",
       "      <td>0</td>\n",
       "      <td>(1920, 2560, 3)</td>\n",
       "      <td>359372</td>\n",
       "      <td>1920</td>\n",
       "      <td>2560</td>\n",
       "      <td>3</td>\n",
       "    </tr>\n",
       "    <tr>\n",
       "      <th>3</th>\n",
       "      <td>2_right</td>\n",
       "      <td>0</td>\n",
       "      <td>(1920, 2560, 3)</td>\n",
       "      <td>376230</td>\n",
       "      <td>1920</td>\n",
       "      <td>2560</td>\n",
       "      <td>3</td>\n",
       "    </tr>\n",
       "    <tr>\n",
       "      <th>4</th>\n",
       "      <td>3_left</td>\n",
       "      <td>0</td>\n",
       "      <td>(1920, 2560, 3)</td>\n",
       "      <td>481639</td>\n",
       "      <td>1920</td>\n",
       "      <td>2560</td>\n",
       "      <td>3</td>\n",
       "    </tr>\n",
       "    <tr>\n",
       "      <th>...</th>\n",
       "      <td>...</td>\n",
       "      <td>...</td>\n",
       "      <td>...</td>\n",
       "      <td>...</td>\n",
       "      <td>...</td>\n",
       "      <td>...</td>\n",
       "      <td>...</td>\n",
       "    </tr>\n",
       "    <tr>\n",
       "      <th>53571</th>\n",
       "      <td>44346_right</td>\n",
       "      <td>0</td>\n",
       "      <td>(2592, 3888, 3)</td>\n",
       "      <td>1427191</td>\n",
       "      <td>2592</td>\n",
       "      <td>3888</td>\n",
       "      <td>3</td>\n",
       "    </tr>\n",
       "    <tr>\n",
       "      <th>53572</th>\n",
       "      <td>44350_left</td>\n",
       "      <td>0</td>\n",
       "      <td>(2592, 3888, 3)</td>\n",
       "      <td>1115948</td>\n",
       "      <td>2592</td>\n",
       "      <td>3888</td>\n",
       "      <td>3</td>\n",
       "    </tr>\n",
       "    <tr>\n",
       "      <th>53573</th>\n",
       "      <td>44350_right</td>\n",
       "      <td>0</td>\n",
       "      <td>(2592, 3888, 3)</td>\n",
       "      <td>1148557</td>\n",
       "      <td>2592</td>\n",
       "      <td>3888</td>\n",
       "      <td>3</td>\n",
       "    </tr>\n",
       "    <tr>\n",
       "      <th>53574</th>\n",
       "      <td>44351_left</td>\n",
       "      <td>0</td>\n",
       "      <td>(1944, 2592, 3)</td>\n",
       "      <td>673356</td>\n",
       "      <td>1944</td>\n",
       "      <td>2592</td>\n",
       "      <td>3</td>\n",
       "    </tr>\n",
       "    <tr>\n",
       "      <th>53575</th>\n",
       "      <td>44351_right</td>\n",
       "      <td>0</td>\n",
       "      <td>(1944, 2592, 3)</td>\n",
       "      <td>611923</td>\n",
       "      <td>1944</td>\n",
       "      <td>2592</td>\n",
       "      <td>3</td>\n",
       "    </tr>\n",
       "  </tbody>\n",
       "</table>\n",
       "<p>53576 rows × 7 columns</p>\n",
       "</div>"
      ],
      "text/plain": [
       "             image  level      image_shape  image_size  height  width  channel\n",
       "0           1_left      0  (2336, 3504, 3)     1147508    2336   3504        3\n",
       "1          1_right      0  (2336, 3504, 3)     1183978    2336   3504        3\n",
       "2           2_left      0  (1920, 2560, 3)      359372    1920   2560        3\n",
       "3          2_right      0  (1920, 2560, 3)      376230    1920   2560        3\n",
       "4           3_left      0  (1920, 2560, 3)      481639    1920   2560        3\n",
       "...            ...    ...              ...         ...     ...    ...      ...\n",
       "53571  44346_right      0  (2592, 3888, 3)     1427191    2592   3888        3\n",
       "53572   44350_left      0  (2592, 3888, 3)     1115948    2592   3888        3\n",
       "53573  44350_right      0  (2592, 3888, 3)     1148557    2592   3888        3\n",
       "53574   44351_left      0  (1944, 2592, 3)      673356    1944   2592        3\n",
       "53575  44351_right      0  (1944, 2592, 3)      611923    1944   2592        3\n",
       "\n",
       "[53576 rows x 7 columns]"
      ]
     },
     "execution_count": 4,
     "metadata": {},
     "output_type": "execute_result"
    }
   ],
   "source": [
    "retinopathy_df"
   ]
  },
  {
   "cell_type": "markdown",
   "id": "0b70f7ff",
   "metadata": {},
   "source": [
    "## EXPLORING DATA"
   ]
  },
  {
   "cell_type": "code",
   "execution_count": 5,
   "id": "03008bad",
   "metadata": {},
   "outputs": [
    {
     "data": {
      "text/plain": [
       "<bound method DataFrame.info of              image  level      image_shape  image_size  height  width  channel\n",
       "0           1_left      0  (2336, 3504, 3)     1147508    2336   3504        3\n",
       "1          1_right      0  (2336, 3504, 3)     1183978    2336   3504        3\n",
       "2           2_left      0  (1920, 2560, 3)      359372    1920   2560        3\n",
       "3          2_right      0  (1920, 2560, 3)      376230    1920   2560        3\n",
       "4           3_left      0  (1920, 2560, 3)      481639    1920   2560        3\n",
       "...            ...    ...              ...         ...     ...    ...      ...\n",
       "53571  44346_right      0  (2592, 3888, 3)     1427191    2592   3888        3\n",
       "53572   44350_left      0  (2592, 3888, 3)     1115948    2592   3888        3\n",
       "53573  44350_right      0  (2592, 3888, 3)     1148557    2592   3888        3\n",
       "53574   44351_left      0  (1944, 2592, 3)      673356    1944   2592        3\n",
       "53575  44351_right      0  (1944, 2592, 3)      611923    1944   2592        3\n",
       "\n",
       "[53576 rows x 7 columns]>"
      ]
     },
     "execution_count": 5,
     "metadata": {},
     "output_type": "execute_result"
    }
   ],
   "source": [
    "retinopathy_df.info"
   ]
  },
  {
   "cell_type": "code",
   "execution_count": 6,
   "id": "96708f04",
   "metadata": {},
   "outputs": [
    {
     "data": {
      "text/plain": [
       "<bound method NDFrame.describe of              image  level      image_shape  image_size  height  width  channel\n",
       "0           1_left      0  (2336, 3504, 3)     1147508    2336   3504        3\n",
       "1          1_right      0  (2336, 3504, 3)     1183978    2336   3504        3\n",
       "2           2_left      0  (1920, 2560, 3)      359372    1920   2560        3\n",
       "3          2_right      0  (1920, 2560, 3)      376230    1920   2560        3\n",
       "4           3_left      0  (1920, 2560, 3)      481639    1920   2560        3\n",
       "...            ...    ...              ...         ...     ...    ...      ...\n",
       "53571  44346_right      0  (2592, 3888, 3)     1427191    2592   3888        3\n",
       "53572   44350_left      0  (2592, 3888, 3)     1115948    2592   3888        3\n",
       "53573  44350_right      0  (2592, 3888, 3)     1148557    2592   3888        3\n",
       "53574   44351_left      0  (1944, 2592, 3)      673356    1944   2592        3\n",
       "53575  44351_right      0  (1944, 2592, 3)      611923    1944   2592        3\n",
       "\n",
       "[53576 rows x 7 columns]>"
      ]
     },
     "execution_count": 6,
     "metadata": {},
     "output_type": "execute_result"
    }
   ],
   "source": [
    "retinopathy_df.describe"
   ]
  },
  {
   "cell_type": "markdown",
   "id": "cde019cc",
   "metadata": {},
   "source": [
    "## Missing Values"
   ]
  },
  {
   "cell_type": "code",
   "execution_count": 7,
   "id": "64a500ee",
   "metadata": {},
   "outputs": [
    {
     "data": {
      "text/plain": [
       "image          0\n",
       "level          0\n",
       "image_shape    0\n",
       "image_size     0\n",
       "height         0\n",
       "width          0\n",
       "channel        0\n",
       "dtype: int64"
      ]
     },
     "execution_count": 7,
     "metadata": {},
     "output_type": "execute_result"
    }
   ],
   "source": [
    "retinopathy_df.isna().sum()"
   ]
  },
  {
   "cell_type": "markdown",
   "id": "37a43d89",
   "metadata": {},
   "source": [
    "## Duplicates"
   ]
  },
  {
   "cell_type": "code",
   "execution_count": 8,
   "id": "d730d19d",
   "metadata": {},
   "outputs": [
    {
     "data": {
      "text/plain": [
       "0"
      ]
     },
     "execution_count": 8,
     "metadata": {},
     "output_type": "execute_result"
    }
   ],
   "source": [
    "retinopathy_df.duplicated().sum()"
   ]
  },
  {
   "cell_type": "markdown",
   "id": "7e60396d",
   "metadata": {},
   "source": [
    "## Outliers "
   ]
  },
  {
   "cell_type": "code",
   "execution_count": 9,
   "id": "ab8548db",
   "metadata": {},
   "outputs": [
    {
     "data": {
      "image/png": "[encoded data removed]",
      "text/plain": [
       "<Figure size 432x288 with 4 Axes>"
      ]
     },
     "metadata": {
      "needs_background": "light"
     },
     "output_type": "display_data"
    }
   ],
   "source": [
    "plt.subplot(2,2,1) \n",
    "retinopathy_df['image_size'].plot(kind='box') \n",
    "\n",
    "plt.subplot(2,2,2) \n",
    "retinopathy_df['height'].plot(kind='box') \n",
    "\n",
    "plt.subplot(2,2,3) \n",
    "retinopathy_df['width'].plot(kind='box') \n",
    "\n",
    "plt.subplot(2,2,4) \n",
    "retinopathy_df['channel'].plot(kind='box') \n",
    "\n",
    "plt.tight_layout()"
   ]
  },
  {
   "cell_type": "code",
   "execution_count": 10,
   "id": "c8b81ac7",
   "metadata": {},
   "outputs": [
    {
     "name": "stdout",
     "output_type": "stream",
     "text": [
      "Height:  upper limit:  3888.0  lower limit:  648.0\n",
      "Widht:  upper limit:  6032.0  lower limit: 672.0\n"
     ]
    }
   ],
   "source": [
    "def find_outlier_limits(col_name):\n",
    "    Q1,Q3=retinopathy_df[col_name].quantile([.25,.75])\n",
    "    IQR=Q3-Q1\n",
    "    low=Q1-(2* IQR)\n",
    "    high=Q3+(2* IQR)\n",
    "    return (high,low)\n",
    "\n",
    "high_height,low_height=find_outlier_limits('height')\n",
    "print('Height: ','upper limit: ',high_height,' lower limit: ',low_height)\n",
    "high_width,low_width=find_outlier_limits('width')\n",
    "print('Widht: ','upper limit: ',high_width,' lower limit:',low_width)"
   ]
  },
  {
   "cell_type": "code",
   "execution_count": 11,
   "id": "5606719b",
   "metadata": {},
   "outputs": [],
   "source": [
    "retinopathy_df.loc[retinopathy_df['height']>high_height,'height']=high_height\n",
    "retinopathy_df.loc[retinopathy_df['height']<low_height,'height']=low_height\n",
    "retinopathy_df.loc[retinopathy_df['width']>high_width,'width']=high_width\n",
    "retinopathy_df.loc[retinopathy_df['width']<low_width,'width']=low_width"
   ]
  },
  {
   "cell_type": "code",
   "execution_count": 12,
   "id": "ba18f5fb",
   "metadata": {},
   "outputs": [
    {
     "data": {
      "image/png": "[encoded data removed]",
      "text/plain": [
       "<Figure size 432x288 with 4 Axes>"
      ]
     },
     "metadata": {
      "needs_background": "light"
     },
     "output_type": "display_data"
    }
   ],
   "source": [
    "plt.subplot(2,2,1) \n",
    "retinopathy_df['image_size'].plot(kind='box') \n",
    "\n",
    "plt.subplot(2,2,2) \n",
    "retinopathy_df['height'].plot(kind='box') \n",
    "\n",
    "plt.subplot(2,2,3) \n",
    "retinopathy_df['width'].plot(kind='box') \n",
    "\n",
    "plt.subplot(2,2,4) \n",
    "retinopathy_df['channel'].plot(kind='box') \n",
    "\n",
    "plt.tight_layout()"
   ]
  },
  {
   "cell_type": "code",
   "execution_count": 13,
   "id": "1d9508fd",
   "metadata": {},
   "outputs": [
    {
     "data": {
      "text/html": [
       "<div>\n",
       "<style scoped>\n",
       "    .dataframe tbody tr th:only-of-type {\n",
       "        vertical-align: middle;\n",
       "    }\n",
       "\n",
       "    .dataframe tbody tr th {\n",
       "        vertical-align: top;\n",
       "    }\n",
       "\n",
       "    .dataframe thead th {\n",
       "        text-align: right;\n",
       "    }\n",
       "</style>\n",
       "<table border=\"1\" class=\"dataframe\">\n",
       "  <thead>\n",
       "    <tr style=\"text-align: right;\">\n",
       "      <th></th>\n",
       "      <th>image</th>\n",
       "      <th>level</th>\n",
       "      <th>image_shape</th>\n",
       "      <th>image_size</th>\n",
       "      <th>height</th>\n",
       "      <th>width</th>\n",
       "      <th>channel</th>\n",
       "      <th>image_no</th>\n",
       "      <th>image_side</th>\n",
       "    </tr>\n",
       "  </thead>\n",
       "  <tbody>\n",
       "    <tr>\n",
       "      <th>0</th>\n",
       "      <td>1_left</td>\n",
       "      <td>0</td>\n",
       "      <td>(2336, 3504, 3)</td>\n",
       "      <td>1147508</td>\n",
       "      <td>2336</td>\n",
       "      <td>3504</td>\n",
       "      <td>3</td>\n",
       "      <td>1</td>\n",
       "      <td>left</td>\n",
       "    </tr>\n",
       "    <tr>\n",
       "      <th>1</th>\n",
       "      <td>1_right</td>\n",
       "      <td>0</td>\n",
       "      <td>(2336, 3504, 3)</td>\n",
       "      <td>1183978</td>\n",
       "      <td>2336</td>\n",
       "      <td>3504</td>\n",
       "      <td>3</td>\n",
       "      <td>1</td>\n",
       "      <td>right</td>\n",
       "    </tr>\n",
       "    <tr>\n",
       "      <th>2</th>\n",
       "      <td>2_left</td>\n",
       "      <td>0</td>\n",
       "      <td>(1920, 2560, 3)</td>\n",
       "      <td>359372</td>\n",
       "      <td>1920</td>\n",
       "      <td>2560</td>\n",
       "      <td>3</td>\n",
       "      <td>2</td>\n",
       "      <td>left</td>\n",
       "    </tr>\n",
       "    <tr>\n",
       "      <th>3</th>\n",
       "      <td>2_right</td>\n",
       "      <td>0</td>\n",
       "      <td>(1920, 2560, 3)</td>\n",
       "      <td>376230</td>\n",
       "      <td>1920</td>\n",
       "      <td>2560</td>\n",
       "      <td>3</td>\n",
       "      <td>2</td>\n",
       "      <td>right</td>\n",
       "    </tr>\n",
       "    <tr>\n",
       "      <th>4</th>\n",
       "      <td>3_left</td>\n",
       "      <td>0</td>\n",
       "      <td>(1920, 2560, 3)</td>\n",
       "      <td>481639</td>\n",
       "      <td>1920</td>\n",
       "      <td>2560</td>\n",
       "      <td>3</td>\n",
       "      <td>3</td>\n",
       "      <td>left</td>\n",
       "    </tr>\n",
       "  </tbody>\n",
       "</table>\n",
       "</div>"
      ],
      "text/plain": [
       "     image  level      image_shape  image_size  height  width  channel  \\\n",
       "0   1_left      0  (2336, 3504, 3)     1147508    2336   3504        3   \n",
       "1  1_right      0  (2336, 3504, 3)     1183978    2336   3504        3   \n",
       "2   2_left      0  (1920, 2560, 3)      359372    1920   2560        3   \n",
       "3  2_right      0  (1920, 2560, 3)      376230    1920   2560        3   \n",
       "4   3_left      0  (1920, 2560, 3)      481639    1920   2560        3   \n",
       "\n",
       "  image_no image_side  \n",
       "0        1       left  \n",
       "1        1      right  \n",
       "2        2       left  \n",
       "3        2      right  \n",
       "4        3       left  "
      ]
     },
     "execution_count": 13,
     "metadata": {},
     "output_type": "execute_result"
    }
   ],
   "source": [
    "retinopathy_df['image_no'] = retinopathy_df['image'].apply(lambda x:x.split('_')[0])\n",
    "retinopathy_df['image_side'] = retinopathy_df['image'].apply(lambda x:x.split('_')[1])\n",
    "\n",
    "retinopathy_df.head()"
   ]
  },
  {
   "cell_type": "code",
   "execution_count": 14,
   "id": "33d08326",
   "metadata": {},
   "outputs": [
    {
     "data": {
      "text/html": [
       "<div>\n",
       "<style scoped>\n",
       "    .dataframe tbody tr th:only-of-type {\n",
       "        vertical-align: middle;\n",
       "    }\n",
       "\n",
       "    .dataframe tbody tr th {\n",
       "        vertical-align: top;\n",
       "    }\n",
       "\n",
       "    .dataframe thead th {\n",
       "        text-align: right;\n",
       "    }\n",
       "</style>\n",
       "<table border=\"1\" class=\"dataframe\">\n",
       "  <thead>\n",
       "    <tr style=\"text-align: right;\">\n",
       "      <th></th>\n",
       "      <th>level</th>\n",
       "      <th>image_size</th>\n",
       "      <th>height</th>\n",
       "      <th>width</th>\n",
       "      <th>channel</th>\n",
       "      <th>image_no</th>\n",
       "      <th>image_side</th>\n",
       "    </tr>\n",
       "  </thead>\n",
       "  <tbody>\n",
       "    <tr>\n",
       "      <th>0</th>\n",
       "      <td>0</td>\n",
       "      <td>1147508</td>\n",
       "      <td>2336</td>\n",
       "      <td>3504</td>\n",
       "      <td>3</td>\n",
       "      <td>1</td>\n",
       "      <td>left</td>\n",
       "    </tr>\n",
       "    <tr>\n",
       "      <th>1</th>\n",
       "      <td>0</td>\n",
       "      <td>1183978</td>\n",
       "      <td>2336</td>\n",
       "      <td>3504</td>\n",
       "      <td>3</td>\n",
       "      <td>1</td>\n",
       "      <td>right</td>\n",
       "    </tr>\n",
       "    <tr>\n",
       "      <th>2</th>\n",
       "      <td>0</td>\n",
       "      <td>359372</td>\n",
       "      <td>1920</td>\n",
       "      <td>2560</td>\n",
       "      <td>3</td>\n",
       "      <td>2</td>\n",
       "      <td>left</td>\n",
       "    </tr>\n",
       "    <tr>\n",
       "      <th>3</th>\n",
       "      <td>0</td>\n",
       "      <td>376230</td>\n",
       "      <td>1920</td>\n",
       "      <td>2560</td>\n",
       "      <td>3</td>\n",
       "      <td>2</td>\n",
       "      <td>right</td>\n",
       "    </tr>\n",
       "    <tr>\n",
       "      <th>4</th>\n",
       "      <td>0</td>\n",
       "      <td>481639</td>\n",
       "      <td>1920</td>\n",
       "      <td>2560</td>\n",
       "      <td>3</td>\n",
       "      <td>3</td>\n",
       "      <td>left</td>\n",
       "    </tr>\n",
       "  </tbody>\n",
       "</table>\n",
       "</div>"
      ],
      "text/plain": [
       "   level  image_size  height  width  channel image_no image_side\n",
       "0      0     1147508    2336   3504        3        1       left\n",
       "1      0     1183978    2336   3504        3        1      right\n",
       "2      0      359372    1920   2560        3        2       left\n",
       "3      0      376230    1920   2560        3        2      right\n",
       "4      0      481639    1920   2560        3        3       left"
      ]
     },
     "execution_count": 14,
     "metadata": {},
     "output_type": "execute_result"
    }
   ],
   "source": [
    "image = retinopathy_df['image']\n",
    "del retinopathy_df['image']\n",
    "image_shape = retinopathy_df['image_shape']\n",
    "del retinopathy_df['image_shape']\n",
    "\n",
    "retinopathy_df.head()"
   ]
  },
  {
   "cell_type": "code",
   "execution_count": 15,
   "id": "0954dfe9",
   "metadata": {},
   "outputs": [
    {
     "data": {
      "text/html": [
       "<div>\n",
       "<style scoped>\n",
       "    .dataframe tbody tr th:only-of-type {\n",
       "        vertical-align: middle;\n",
       "    }\n",
       "\n",
       "    .dataframe tbody tr th {\n",
       "        vertical-align: top;\n",
       "    }\n",
       "\n",
       "    .dataframe thead th {\n",
       "        text-align: right;\n",
       "    }\n",
       "</style>\n",
       "<table border=\"1\" class=\"dataframe\">\n",
       "  <thead>\n",
       "    <tr style=\"text-align: right;\">\n",
       "      <th></th>\n",
       "      <th>image_size</th>\n",
       "      <th>height</th>\n",
       "      <th>width</th>\n",
       "    </tr>\n",
       "  </thead>\n",
       "  <tbody>\n",
       "    <tr>\n",
       "      <th>image_size</th>\n",
       "      <td>1.000000</td>\n",
       "      <td>0.790326</td>\n",
       "      <td>0.809199</td>\n",
       "    </tr>\n",
       "    <tr>\n",
       "      <th>height</th>\n",
       "      <td>0.790326</td>\n",
       "      <td>1.000000</td>\n",
       "      <td>0.990041</td>\n",
       "    </tr>\n",
       "    <tr>\n",
       "      <th>width</th>\n",
       "      <td>0.809199</td>\n",
       "      <td>0.990041</td>\n",
       "      <td>1.000000</td>\n",
       "    </tr>\n",
       "  </tbody>\n",
       "</table>\n",
       "</div>"
      ],
      "text/plain": [
       "            image_size    height     width\n",
       "image_size    1.000000  0.790326  0.809199\n",
       "height        0.790326  1.000000  0.990041\n",
       "width         0.809199  0.990041  1.000000"
      ]
     },
     "execution_count": 15,
     "metadata": {},
     "output_type": "execute_result"
    }
   ],
   "source": [
    "correlation_df=retinopathy_df[['image_size','height','width','image_no','image_side']].corr()\n",
    "correlation_df"
   ]
  },
  {
   "cell_type": "code",
   "execution_count": 16,
   "id": "02406d68",
   "metadata": {},
   "outputs": [
    {
     "data": {
      "text/plain": [
       "<AxesSubplot:>"
      ]
     },
     "execution_count": 16,
     "metadata": {},
     "output_type": "execute_result"
    },
    {
     "data": {
      "image/png": "[encoded data removed]",
      "text/plain": [
       "<Figure size 432x288 with 2 Axes>"
      ]
     },
     "metadata": {
      "needs_background": "light"
     },
     "output_type": "display_data"
    }
   ],
   "source": [
    "import seaborn as sns\n",
    "sns.heatmap(correlation_df, cmap=\"coolwarm\", annot=True)"
   ]
  },
  {
   "cell_type": "markdown",
   "id": "3b51cbee",
   "metadata": {},
   "source": [
    "## Modeling "
   ]
  },
  {
   "cell_type": "code",
   "execution_count": 17,
   "id": "2500a134",
   "metadata": {
    "scrolled": false
   },
   "outputs": [
    {
     "name": "stdout",
     "output_type": "stream",
     "text": [
      "       image_size  height  width  channel image_no image_side\n",
      "0         1147508    2336   3504        3        1       left\n",
      "1         1183978    2336   3504        3        1      right\n",
      "2          359372    1920   2560        3        2       left\n",
      "3          376230    1920   2560        3        2      right\n",
      "4          481639    1920   2560        3        3       left\n",
      "...           ...     ...    ...      ...      ...        ...\n",
      "53571     1427191    2592   3888        3    44346      right\n",
      "53572     1115948    2592   3888        3    44350       left\n",
      "53573     1148557    2592   3888        3    44350      right\n",
      "53574      673356    1944   2592        3    44351       left\n",
      "53575      611923    1944   2592        3    44351      right\n",
      "\n",
      "[53576 rows x 6 columns]\n",
      "0        0\n",
      "1        0\n",
      "2        0\n",
      "3        0\n",
      "4        0\n",
      "        ..\n",
      "53571    0\n",
      "53572    0\n",
      "53573    0\n",
      "53574    0\n",
      "53575    0\n",
      "Name: level, Length: 53576, dtype: int64\n"
     ]
    }
   ],
   "source": [
    "X = retinopathy_df.iloc[:, 1:8]\n",
    "y = retinopathy_df.iloc[:, 0]\n",
    "print(X)\n",
    "print(y)"
   ]
  },
  {
   "cell_type": "code",
   "execution_count": 18,
   "id": "875f88e2",
   "metadata": {},
   "outputs": [
    {
     "data": {
      "text/html": [
       "<div>\n",
       "<style scoped>\n",
       "    .dataframe tbody tr th:only-of-type {\n",
       "        vertical-align: middle;\n",
       "    }\n",
       "\n",
       "    .dataframe tbody tr th {\n",
       "        vertical-align: top;\n",
       "    }\n",
       "\n",
       "    .dataframe thead th {\n",
       "        text-align: right;\n",
       "    }\n",
       "</style>\n",
       "<table border=\"1\" class=\"dataframe\">\n",
       "  <thead>\n",
       "    <tr style=\"text-align: right;\">\n",
       "      <th></th>\n",
       "      <th>level</th>\n",
       "      <th>image_size</th>\n",
       "      <th>height</th>\n",
       "      <th>width</th>\n",
       "      <th>channel</th>\n",
       "      <th>image_no</th>\n",
       "      <th>image_side_left</th>\n",
       "      <th>image_side_right</th>\n",
       "    </tr>\n",
       "  </thead>\n",
       "  <tbody>\n",
       "    <tr>\n",
       "      <th>0</th>\n",
       "      <td>0</td>\n",
       "      <td>1147508</td>\n",
       "      <td>2336</td>\n",
       "      <td>3504</td>\n",
       "      <td>3</td>\n",
       "      <td>1</td>\n",
       "      <td>1</td>\n",
       "      <td>0</td>\n",
       "    </tr>\n",
       "    <tr>\n",
       "      <th>1</th>\n",
       "      <td>0</td>\n",
       "      <td>1183978</td>\n",
       "      <td>2336</td>\n",
       "      <td>3504</td>\n",
       "      <td>3</td>\n",
       "      <td>1</td>\n",
       "      <td>0</td>\n",
       "      <td>1</td>\n",
       "    </tr>\n",
       "    <tr>\n",
       "      <th>2</th>\n",
       "      <td>0</td>\n",
       "      <td>359372</td>\n",
       "      <td>1920</td>\n",
       "      <td>2560</td>\n",
       "      <td>3</td>\n",
       "      <td>2</td>\n",
       "      <td>1</td>\n",
       "      <td>0</td>\n",
       "    </tr>\n",
       "    <tr>\n",
       "      <th>3</th>\n",
       "      <td>0</td>\n",
       "      <td>376230</td>\n",
       "      <td>1920</td>\n",
       "      <td>2560</td>\n",
       "      <td>3</td>\n",
       "      <td>2</td>\n",
       "      <td>0</td>\n",
       "      <td>1</td>\n",
       "    </tr>\n",
       "    <tr>\n",
       "      <th>4</th>\n",
       "      <td>0</td>\n",
       "      <td>481639</td>\n",
       "      <td>1920</td>\n",
       "      <td>2560</td>\n",
       "      <td>3</td>\n",
       "      <td>3</td>\n",
       "      <td>1</td>\n",
       "      <td>0</td>\n",
       "    </tr>\n",
       "    <tr>\n",
       "      <th>...</th>\n",
       "      <td>...</td>\n",
       "      <td>...</td>\n",
       "      <td>...</td>\n",
       "      <td>...</td>\n",
       "      <td>...</td>\n",
       "      <td>...</td>\n",
       "      <td>...</td>\n",
       "      <td>...</td>\n",
       "    </tr>\n",
       "    <tr>\n",
       "      <th>53571</th>\n",
       "      <td>0</td>\n",
       "      <td>1427191</td>\n",
       "      <td>2592</td>\n",
       "      <td>3888</td>\n",
       "      <td>3</td>\n",
       "      <td>44346</td>\n",
       "      <td>0</td>\n",
       "      <td>1</td>\n",
       "    </tr>\n",
       "    <tr>\n",
       "      <th>53572</th>\n",
       "      <td>0</td>\n",
       "      <td>1115948</td>\n",
       "      <td>2592</td>\n",
       "      <td>3888</td>\n",
       "      <td>3</td>\n",
       "      <td>44350</td>\n",
       "      <td>1</td>\n",
       "      <td>0</td>\n",
       "    </tr>\n",
       "    <tr>\n",
       "      <th>53573</th>\n",
       "      <td>0</td>\n",
       "      <td>1148557</td>\n",
       "      <td>2592</td>\n",
       "      <td>3888</td>\n",
       "      <td>3</td>\n",
       "      <td>44350</td>\n",
       "      <td>0</td>\n",
       "      <td>1</td>\n",
       "    </tr>\n",
       "    <tr>\n",
       "      <th>53574</th>\n",
       "      <td>0</td>\n",
       "      <td>673356</td>\n",
       "      <td>1944</td>\n",
       "      <td>2592</td>\n",
       "      <td>3</td>\n",
       "      <td>44351</td>\n",
       "      <td>1</td>\n",
       "      <td>0</td>\n",
       "    </tr>\n",
       "    <tr>\n",
       "      <th>53575</th>\n",
       "      <td>0</td>\n",
       "      <td>611923</td>\n",
       "      <td>1944</td>\n",
       "      <td>2592</td>\n",
       "      <td>3</td>\n",
       "      <td>44351</td>\n",
       "      <td>0</td>\n",
       "      <td>1</td>\n",
       "    </tr>\n",
       "  </tbody>\n",
       "</table>\n",
       "<p>53576 rows × 8 columns</p>\n",
       "</div>"
      ],
      "text/plain": [
       "       level  image_size  height  width  channel image_no  image_side_left  \\\n",
       "0          0     1147508    2336   3504        3        1                1   \n",
       "1          0     1183978    2336   3504        3        1                0   \n",
       "2          0      359372    1920   2560        3        2                1   \n",
       "3          0      376230    1920   2560        3        2                0   \n",
       "4          0      481639    1920   2560        3        3                1   \n",
       "...      ...         ...     ...    ...      ...      ...              ...   \n",
       "53571      0     1427191    2592   3888        3    44346                0   \n",
       "53572      0     1115948    2592   3888        3    44350                1   \n",
       "53573      0     1148557    2592   3888        3    44350                0   \n",
       "53574      0      673356    1944   2592        3    44351                1   \n",
       "53575      0      611923    1944   2592        3    44351                0   \n",
       "\n",
       "       image_side_right  \n",
       "0                     0  \n",
       "1                     1  \n",
       "2                     0  \n",
       "3                     1  \n",
       "4                     0  \n",
       "...                 ...  \n",
       "53571                 1  \n",
       "53572                 0  \n",
       "53573                 1  \n",
       "53574                 0  \n",
       "53575                 1  \n",
       "\n",
       "[53576 rows x 8 columns]"
      ]
     },
     "execution_count": 18,
     "metadata": {},
     "output_type": "execute_result"
    }
   ],
   "source": [
    "X=pd.get_dummies(retinopathy_df, columns=['image_side'])\n",
    "X"
   ]
  },
  {
   "cell_type": "markdown",
   "id": "3c4f87ab",
   "metadata": {},
   "source": [
    "## Train and Test data split"
   ]
  },
  {
   "cell_type": "code",
   "execution_count": 19,
   "id": "9d377862",
   "metadata": {},
   "outputs": [],
   "source": [
    "from sklearn.model_selection import train_test_split\n",
    "X_train, X_test, y_train, y_test = train_test_split(X, y, test_size = 0.1, random_state = 0)"
   ]
  },
  {
   "cell_type": "code",
   "execution_count": 20,
   "id": "afa187f3",
   "metadata": {
    "scrolled": false
   },
   "outputs": [
    {
     "data": {
      "text/plain": [
       "array([[ 0.        , -1.68062201, -1.16828996, ...,  0.01370336,\n",
       "         0.99904645, -0.99904645],\n",
       "       [ 0.        , -1.75332174, -1.16828996, ...,  0.53343537,\n",
       "         0.99904645, -0.99904645],\n",
       "       [ 0.        , -0.43691571, -0.87833271, ..., -1.37011051,\n",
       "        -1.00095446,  1.00095446],\n",
       "       ...,\n",
       "       [ 0.        , -0.42564934, -0.28136189, ..., -0.35786905,\n",
       "         0.99904645, -0.99904645],\n",
       "       [ 0.        ,  1.14610572, -0.34958713, ..., -0.20094816,\n",
       "        -1.00095446,  1.00095446],\n",
       "       [ 0.        , -0.67757607,  0.26444   , ...,  0.64803612,\n",
       "        -1.00095446,  1.00095446]])"
      ]
     },
     "execution_count": 20,
     "metadata": {},
     "output_type": "execute_result"
    }
   ],
   "source": [
    "#Applying standard scaler on the data\n",
    "from sklearn.preprocessing import StandardScaler\n",
    "scale = StandardScaler()\n",
    "scale.fit_transform(X_train)\n",
    "scale.transform(X_test)"
   ]
  },
  {
   "cell_type": "markdown",
   "id": "8c2a6a8d",
   "metadata": {},
   "source": [
    "## Training"
   ]
  },
  {
   "cell_type": "code",
   "execution_count": 21,
   "id": "b20bec11",
   "metadata": {},
   "outputs": [],
   "source": [
    "from sklearn.linear_model import LinearRegression\n",
    "reg = LinearRegression()"
   ]
  },
  {
   "cell_type": "code",
   "execution_count": 22,
   "id": "87cc99a4",
   "metadata": {
    "scrolled": true
   },
   "outputs": [
    {
     "data": {
      "text/plain": [
       "LinearRegression()"
      ]
     },
     "execution_count": 22,
     "metadata": {},
     "output_type": "execute_result"
    }
   ],
   "source": [
    "reg.fit(X_train, y_train)"
   ]
  },
  {
   "cell_type": "markdown",
   "id": "ff747d7f",
   "metadata": {},
   "source": [
    "## Testing"
   ]
  },
  {
   "cell_type": "code",
   "execution_count": 23,
   "id": "050663cb",
   "metadata": {},
   "outputs": [],
   "source": [
    "y_pred_train = reg.predict(X_train)\n",
    "\n",
    "y_pred_test = reg.predict(X_test)"
   ]
  },
  {
   "cell_type": "markdown",
   "id": "0b182315",
   "metadata": {},
   "source": [
    "## Evaluation"
   ]
  },
  {
   "cell_type": "code",
   "execution_count": 24,
   "id": "c46bd6c0",
   "metadata": {},
   "outputs": [
    {
     "data": {
      "text/plain": [
       "1.0"
      ]
     },
     "execution_count": 24,
     "metadata": {},
     "output_type": "execute_result"
    }
   ],
   "source": [
    "from sklearn.metrics import r2_score\n",
    "r2_S = r2_score(y_train, y_pred_train)\n",
    "r2_S"
   ]
  },
  {
   "cell_type": "code",
   "execution_count": 25,
   "id": "5a89cac1",
   "metadata": {},
   "outputs": [
    {
     "data": {
      "text/plain": [
       "1.0"
      ]
     },
     "execution_count": 25,
     "metadata": {},
     "output_type": "execute_result"
    }
   ],
   "source": [
    "from sklearn.metrics import r2_score\n",
    "r2_S = r2_score(y_test, y_pred_test)\n",
    "r2_S"
   ]
  },
  {
   "cell_type": "markdown",
   "id": "33427965",
   "metadata": {},
   "source": [
    "Hence prediction is very like to be accurate."
   ]
  }
 ],
 "metadata": {
  "kernelspec": {
   "display_name": "Python 3 (ipykernel)",
   "language": "python",
   "name": "python3"
  },
  "language_info": {
   "codemirror_mode": {
    "name": "ipython",
    "version": 3
   },
   "file_extension": ".py",
   "mimetype": "text/x-python",
   "name": "python",
   "nbconvert_exporter": "python",
   "pygments_lexer": "ipython3",
   "version": "3.9.12"
  }
 },
 "nbformat": 4,
 "nbformat_minor": 5
}
